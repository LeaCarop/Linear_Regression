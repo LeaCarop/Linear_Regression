{
 "cells": [
  {
   "cell_type": "markdown",
   "metadata": {},
   "source": [
    "### \"Solución MCO\""
   ]
  },
  {
   "cell_type": "code",
   "execution_count": 1,
   "metadata": {},
   "outputs": [],
   "source": [
    "import numpy as np\n",
    "import pandas as pd\n",
    "from sklearn.linear_model import LinearRegression\n",
    "from sklearn.metrics import r2_score"
   ]
  },
  {
   "cell_type": "markdown",
   "metadata": {},
   "source": [
    "study = una matriz que contiene las horas de estudio. Esta es la variable explicativa. <br>\n",
    "score = una matriz que contiene las puntuaciones de las pruebas. Esta es la variable de respuesta."
   ]
  },
  {
   "cell_type": "code",
   "execution_count": 2,
   "metadata": {},
   "outputs": [],
   "source": [
    "study = np.array([ 3, 4.5, 6, 1.2, 2, 6.9, 6.7, 5.5]).reshape(-1,1)\n",
    "score = np.array([ 88, 85, 90, 80, 81, 92, 95, 90]).reshape(-1,1)"
   ]
  },
  {
   "cell_type": "markdown",
   "metadata": {},
   "source": [
    "1). Defino la clase 'linearRegression' "
   ]
  },
  {
   "cell_type": "code",
   "execution_count": 88,
   "metadata": {},
   "outputs": [],
   "source": [
    "class linearRegression:\n",
    "    \n",
    "    def __init__(self, fit_intercept=True):\n",
    "        self.coef_ = None\n",
    "        self.intercept_ = None\n",
    "        self._fit_intercept = fit_intercept\n",
    "        self.r2_score = None\n",
    "    \n",
    "    def train(self, X, Y):\n",
    "        n = X.shape[0]\n",
    "        m = X.shape[1]\n",
    "        intercept = np.ones((X.shape[0], 1))\n",
    "        X1 = np.concatenate((intercept, X), axis = 1)\n",
    "        B1 = np.dot(np.dot(np.linalg.inv(np.dot(X1.T, X1)), X1.T), Y) # beta\n",
    "        self._fit_intercept = B1\n",
    "        \n",
    "        for i in range(len(self._fit_intercept)):\n",
    "            self.intercept_ = B1[i-1]    # coeficiente constante\n",
    "            self.coef_ = B1[i]           # coeficiente beta\n",
    "\n",
    "        y_hat = self.intercept_ + X * self.coef_\n",
    "        MC = np.corrcoef(Y.T, y_hat.T) # MC = matriz de correlación\n",
    "        r = MC[0,1]                     # correlación\n",
    "        r2_score = r**2    # r(yhat,Y)^2 = R^2\n",
    "        self.r2_score = r2_score\n",
    "        \n",
    "    def output(self):\n",
    "        df = pd.DataFrame(self._fit_intercept, index=['Intercept', 'X1'], columns=['Coefficient'])  # salida\n",
    "        print(df)\n",
    "        print('-'*30)\n",
    "        print('La bondad de ajuste (r_2) es:', np.round(self.r2_score, 6))\n",
    "        print('La constante (β0) es:', self.intercept_)\n",
    "        print('La beta (β1) es:', self.coef_)"
   ]
  },
  {
   "cell_type": "markdown",
   "metadata": {},
   "source": [
    "**Ejecución:**"
   ]
  },
  {
   "cell_type": "code",
   "execution_count": 89,
   "metadata": {},
   "outputs": [
    {
     "name": "stdout",
     "output_type": "stream",
     "text": [
      "           Coefficient\n",
      "Intercept    77.684670\n",
      "X1            2.221303\n",
      "------------------------------\n",
      "La bondad de ajuste (r_2) es: 0.845842\n",
      "La constante (β0) es: [77.68466978]\n",
      "La beta (β1) es: [2.22130284]\n"
     ]
    }
   ],
   "source": [
    "LR = linearRegression()                    # Crea un objeto de regresión lineal.\n",
    "LR.train(study, score)                     # Entrenamiento.\n",
    "LR.output()                                # Muestra el resultado del entrenamiento."
   ]
  },
  {
   "cell_type": "markdown",
   "metadata": {},
   "source": [
    "Y = β + β1 + u(residuo)\n",
    "\n",
    "Puntuación = 77.68 + 2.22 Horas/estudio\n",
    "\n",
    "La puntuación aumenta 2.22 puntos por cada hora de estudio.\n",
    "\n",
    "Con un R^2 de 0,84 el modelo lineal obtenido tiene representatividad. El modelo explica."
   ]
  }
 ],
 "metadata": {
  "kernelspec": {
   "display_name": "Python 3",
   "language": "python",
   "name": "python3"
  },
  "language_info": {
   "codemirror_mode": {
    "name": "ipython",
    "version": 3
   },
   "file_extension": ".py",
   "mimetype": "text/x-python",
   "name": "python",
   "nbconvert_exporter": "python",
   "pygments_lexer": "ipython3",
   "version": "3.8.8"
  }
 },
 "nbformat": 4,
 "nbformat_minor": 2
}
